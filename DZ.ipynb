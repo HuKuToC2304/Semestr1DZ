{
 "cells": [
  {
   "cell_type": "code",
   "execution_count": 1,
   "id": "1de7bb21",
   "metadata": {},
   "outputs": [
    {
     "name": "stdout",
     "output_type": "stream",
     "text": [
      "Введите строку  Никита\n",
      "['а', 'и', 'к', 'и', 'т', 'Н']\n"
     ]
    }
   ],
   "source": [
    "text = input( \"Введите строку  \")\n",
    "length = len(text)\n",
    "massive = []\n",
    "massive += text \n",
    "massive.insert(0,massive[length-1])\n",
    "massive.pop(length)\n",
    "massive.insert(length+1,massive[1])\n",
    "massive.pop(1)\n",
    "print(massive)"
   ]
  },
  {
   "cell_type": "code",
   "execution_count": null,
   "id": "1329e369",
   "metadata": {},
   "outputs": [],
   "source": []
  }
 ],
 "metadata": {
  "kernelspec": {
   "display_name": "Python 3",
   "language": "python",
   "name": "python3"
  },
  "language_info": {
   "codemirror_mode": {
    "name": "ipython",
    "version": 3
   },
   "file_extension": ".py",
   "mimetype": "text/x-python",
   "name": "python",
   "nbconvert_exporter": "python",
   "pygments_lexer": "ipython3",
   "version": "3.8.8"
  }
 },
 "nbformat": 4,
 "nbformat_minor": 5
}
